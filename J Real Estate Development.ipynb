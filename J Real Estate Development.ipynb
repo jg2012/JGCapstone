{
 "cells": [
  {
   "cell_type": "markdown",
   "source": [
    "# J Real Estate Development\n",
    "\n",
    "J Real Estate Development is a developer who is looking to develop in areas that are highly walkable for people. They will begin by survey areas in the state of California, Nebraska , and Washington.  They will then send their results to management to approve their proposals.  If approved, J Real Estate Development will begin the process to develop in that city / town."
   ],
   "metadata": {
    "collapsed": false
   }
  },
  {
   "cell_type": "markdown",
   "source": [],
   "metadata": {
    "collapsed": false
   }
  },
  {
   "cell_type": "markdown",
   "source": [
    "# Business Process Flow\n",
    "Survey and approval process for development projects.\n",
    "\n"
   ],
   "metadata": {
    "collapsed": false
   }
  },
  {
   "cell_type": "code",
   "execution_count": null,
   "outputs": [],
   "source": [],
   "metadata": {
    "collapsed": false
   }
  },
  {
   "cell_type": "markdown",
   "source": [],
   "metadata": {
    "collapsed": false
   }
  },
  {
   "cell_type": "markdown",
   "source": [
    "## Entity Relationship Diagram\n",
    "The relationship come from customers, sales team, management, and national walk ability index."
   ],
   "metadata": {
    "collapsed": false
   }
  },
  {
   "cell_type": "markdown",
   "source": [],
   "metadata": {
    "collapsed": false
   }
  },
  {
   "cell_type": "markdown",
   "source": [
    "## J Real Estate Development Database DDL\n",
    "Faker.py and data from data.gov was used to generate data.\n"
   ],
   "metadata": {
    "collapsed": false
   }
  },
  {
   "cell_type": "markdown",
   "source": [],
   "metadata": {
    "collapsed": false
   }
  },
  {
   "cell_type": "markdown",
   "source": [
    "\n",
    "CREATE TABLE `customers` (\n",
    " `customer_id` int AUTOIncrement NOT NULL,\n",
    "`first_name` varchar(50) NOT NULL,\n",
    "`last_name` varchar(50) NOT NULL,\n",
    "`phone` varchar(50) NOT NULL,\n",
    "`email` varchar(50) NOT NULL,\n",
    "`address` varchar(50) NOT NULL,\n",
    "`city` varchar(50) NOT NULL,\n",
    "`state` varchar(50) DEFAULT NULL,\n",
    "`zip` int DEFAULT NULL,\n",
    "PRIMARY KEY (`customer_id`)\n",
    ");"
   ],
   "metadata": {
    "collapsed": false
   }
  },
  {
   "cell_type": "markdown",
   "source": [
    "CREATE TABLE `employees` (\n",
    "                             `employee_id` int AUTO_INCREMENT NOT NULL,\n",
    "                             `first_name` varchar(50) NOT NULL,\n",
    "                             `last_name` varchar(50) NOT NULL,\n",
    "                             `email` varchar(100) NOT NULL,\n",
    "                             `job_title` varchar(10) NOT NULL,\n",
    "                             `state_office_id` int DEFAULT NULL,\n",
    "                             PRIMARY KEY (`employee_id`),\n",
    "                             CONSTRAINT `employees_fk` FOREIGN KEY (`state_office_id`) REFERENCES `state_office` (`state_office_id`)\n",
    ");"
   ],
   "metadata": {
    "collapsed": false
   }
  },
  {
   "cell_type": "markdown",
   "source": [
    "CREATE TABLE `state_office` (\n",
    "  `state_office_id` int AUOTIncrement NOT NULL,\n",
    "  `state_office_name` varchar(50) NOT NULL,\n",
    "  `state_office_manager` varchar(50) NOT NULL,\n",
    "  'state_office_address' varchar(50) NOT NULL,\n",
    " 'state_office_city' varchar(50) NOT NULL,\n",
    " 'state_office_zip' varchar(5) NOT NULL,\n",
    "  PRIMARY KEY (`state_no`)\n",
    ");"
   ],
   "metadata": {
    "collapsed": false
   }
  },
  {
   "cell_type": "markdown",
   "source": [
    "CREATE TABLE `state_survey_data` (\n",
    "  `state_survey_id` int AUTO_INCREMENT NOT NULL,\n",
    "  `State` VARCHAR(255) NOT NULL,\n",
    "  `City` INT NOT NULL,\n",
    "  `City Population` INT NOT NULL,\n",
    "  `Avg. Walk Score` INT NOT NULL,\n",
    "  PRIMARY KEY (`state_survey_id`)\n",
    ");"
   ],
   "metadata": {
    "collapsed": false
   }
  },
  {
   "cell_type": "markdown",
   "source": [
    "CREATE Table customer_leads(\n",
    "\n",
    ");"
   ],
   "metadata": {
    "collapsed": false
   }
  },
  {
   "cell_type": "markdown",
   "source": [
    "#Customer.py\n"
   ],
   "metadata": {
    "collapsed": false
   }
  },
  {
   "cell_type": "code",
   "execution_count": 17,
   "outputs": [
    {
     "name": "stdout",
     "output_type": "stream",
     "text": [
      "     First Name   Last Name                Phone                      Email  \\\n",
      "0      Kathleen       Davis   (272)313-1246x4317        gina.dyer@faker.com   \n",
      "1        Robert       Ortiz   (445)143-4710x9797  carlos.anderson@faker.com   \n",
      "2        Joshua     Bradley    079-509-9913x1353   amanda.brennan@faker.com   \n",
      "3         Kathy     Vincent  +1-679-953-0474x048  michael.mullins@faker.com   \n",
      "4        Thomas      Arnold         857.954.7776  allison.higgins@faker.com   \n",
      "...         ...         ...                  ...                        ...   \n",
      "1995   Nicholas        West         870.227.9193     shelby.davis@faker.com   \n",
      "1996      Janet  Montgomery         012-249-2984     janice.lynch@faker.com   \n",
      "1997     Nicole      Cooper         811.053.5284       alec.noble@faker.com   \n",
      "1998    William       Scott         515-158-5892   susan.castillo@faker.com   \n",
      "1999      Frank     Collier    852.286.1669x5534    vanessa.jones@faker.com   \n",
      "\n",
      "                               Address          City State Zip Code  \n",
      "0       7504 Leonard Terrace Suite 278     Vancouver    WA    19556  \n",
      "1                  38932 Leslie Lights      Stockton    CA    92396  \n",
      "2             549 Nunez Mill Suite 221        Fresno    CA    63494  \n",
      "3       04206 English Branch Suite 306  Grand Island    NE    98072  \n",
      "4           83341 Smith Loop Suite 513      Alliance    NE    11493  \n",
      "...                                ...           ...   ...      ...  \n",
      "1995  4367 Michael Trafficway Apt. 860       Kearney    NE    02916  \n",
      "1996                  99064 Hunt Place       Seattle    WA    64216  \n",
      "1997        602 Brown Branch Suite 024     Sammamish    WA    02962  \n",
      "1998                    621 Hicks Port   Scottsbluff    NE    99439  \n",
      "1999         4440 Logan Hill Suite 344    Sacramento    CA    50432  \n",
      "\n",
      "[2000 rows x 8 columns]\n"
     ]
    }
   ],
   "source": [
    "from faker import Faker\n",
    "import boto3\n",
    "import pyarrow as pa\n",
    "import pyarrow.parquet as pq\n",
    "from io import BytesIO\n",
    "\n",
    "fake = Faker()\n",
    "states = ['WA', 'NE', 'CA']\n",
    "state_cities = {\n",
    "    'WA': ['Seattle', 'Spokane', 'Tacoma', 'Vancouver', 'Bellevue', 'Kent', 'Everett', 'Renton', 'Spokane Valley', 'Kirkland', 'Federal Way', 'Yakima', 'Bellingham', 'Auburn', 'Kennewick', 'Pasco', 'Redmond', 'Sammamish', 'Marysville', 'South Hill'],\n",
    "    'NE': ['Omaha', 'Lincoln', 'Bellevue', 'Grand Island', 'Kearney','Fremont','Hastings','Norfolk','Columbus','North Platte','Papillion','La Vista','Scottsbluff','South Sioux City','Beatrice','Chalco','Lexington','Gering','York','Alliance'],\n",
    "    'CA': ['Los Angeles', 'San Diego', 'San Jose', 'San Francisco', 'Fresno','Sacramento','Long Beach','Oakland','Bakersfield','Anaheim','Stockton','Riverside','Santa Ana','Irvine','Chula Vista','Fremont','Santa Clarita','San Bernardino','Modesto','Moreno Valley']\n",
    "}\n",
    "\n",
    "def generate_data(num=2000):\n",
    "    output = []\n",
    "    for x in range(num):\n",
    "        state = states[fake.random_int(0,2)]\n",
    "        city = fake.random_element(state_cities[state])\n",
    "        output.append({\"First Name\":fake.first_name(),\n",
    "                       \"Last Name\":fake.last_name(),\n",
    "                       \"Phone\":fake.phone_number(),\n",
    "                       \"Email\":fake.first_name().lower() + '.' + fake.last_name().lower() + '@faker.com',\n",
    "                       \"Address\":fake.street_address(),\n",
    "                       \"City\":city,\n",
    "                       \"State\":state,\n",
    "                       \"Zip Code\":fake.zipcode()})\n",
    "    return pd.DataFrame(output)\n",
    "\n",
    "def generate_data(num=2000):\n",
    "    output = []\n",
    "    for x in range(num):\n",
    "        state = states[fake.random_int(0,2)]\n",
    "        city = fake.random_element(state_cities[state])\n",
    "        output.append({\"First Name\":fake.first_name(),\n",
    "                       \"Last Name\":fake.last_name(),\n",
    "                       \"Phone\":fake.phone_number(),\n",
    "                       \"Email\":fake.first_name().lower() + '.' + fake.last_name().lower() + '@faker.com',\n",
    "                       \"Address\":fake.street_address(),\n",
    "                       \"City\":city,\n",
    "                       \"State\":state,\n",
    "                       \"Zip Code\":fake.zipcode()})\n",
    "    return pd.DataFrame(output)\n",
    "\n",
    "df = generate_data()\n",
    "\n",
    "bucket = \"jgpromineo\" # your bucket name\n",
    "parquet_buffer = BytesIO()\n",
    "table = pa.Table.from_pandas(df)\n",
    "pq.write_table(table, parquet_buffer)\n",
    "s3_resource = boto3.resource('s3')\n",
    "s3_resource.Object(bucket, \"fake_customer_data.parquet\").put(Body=parquet_buffer.getvalue())\n",
    "\n",
    "print(df)"
   ],
   "metadata": {
    "collapsed": false
   }
  },
  {
   "cell_type": "markdown",
   "source": [
    "#Employee.py"
   ],
   "metadata": {
    "collapsed": false
   }
  },
  {
   "cell_type": "code",
   "execution_count": 16,
   "outputs": [
    {
     "name": "stdout",
     "output_type": "stream",
     "text": [
      "   First Name    Last Name                   Phone  \\\n",
      "0   Elizabeth       Miller       982-074-9769x9838   \n",
      "1     Jessica      Vazquez     +1-499-692-2012x951   \n",
      "2     Jeffrey         Hall              6981909086   \n",
      "3       Karen  Christensen        001-188-619-9368   \n",
      "4   Christina     Atkinson            480-615-5958   \n",
      "5       Tyler       Jensen   +1-744-294-6202x88907   \n",
      "6        Leah        Jones           (254)048-1430   \n",
      "7        Adam        Davis       (336)862-9408x275   \n",
      "8    Kimberly      Ferrell      (350)168-3217x8260   \n",
      "9       Scott        Perry    +1-566-306-3494x0135   \n",
      "10      Maria        Brown              5582245718   \n",
      "11        Amy      Mathews    001-107-473-4817x090   \n",
      "12      Julie      Delgado      811.851.0305x24709   \n",
      "13      James        Wolfe            748-631-8841   \n",
      "14      Susan       Bailey        001-834-705-4575   \n",
      "15    Zachary       Werner            648-950-8113   \n",
      "16   Michelle      Aguilar       121.893.7233x5815   \n",
      "17     Sydney       Fuller    001-882-333-1418x212   \n",
      "18      Cindy     Gonzalez            137-366-0627   \n",
      "19       Tina        Terry         +1-735-779-2213   \n",
      "20      Diana      Allison     (020)437-2273x56392   \n",
      "21   Danielle     Friedman       635-231-6617x6260   \n",
      "22   Victoria        Smith            227.901.1317   \n",
      "23       Sean        Glenn      065-216-4380x22816   \n",
      "24      Lucas    Maldonado      (344)473-7905x5839   \n",
      "25       Joel     Erickson  001-191-290-2468x17464   \n",
      "26    Cynthia       Walter           (906)297-8575   \n",
      "27     Angela         Ward        317.835.7392x239   \n",
      "28       Tony      Jimenez           (809)806-8817   \n",
      "29      Perry     Saunders       (012)535-6563x398   \n",
      "\n",
      "                           Email                            Address  \\\n",
      "0           jeremy.hall@jred.com       37134 Brittany Isle Apt. 577   \n",
      "1         anne.gonzalez@jred.com          8846 Neal Hills Suite 108   \n",
      "2        amanda.oconnor@jred.com     02709 Rebecca Shoals Suite 101   \n",
      "3           eric.turner@jred.com                65709 Brown Corners   \n",
      "4           brian.lopez@jred.com        54706 Sanders Land Apt. 095   \n",
      "5         mary.williams@jred.com                0585 Turner Mission   \n",
      "6          ronald.lyons@jred.com        0342 Margaret Walk Apt. 920   \n",
      "7        jennifer.baird@jred.com                     720 Sharp Lane   \n",
      "8         jessica.perry@jred.com                   15468 Tina Drive   \n",
      "9         samantha.ward@jred.com                  4338 Boyer Course   \n",
      "10     patricia.nichols@jred.com      81319 Amanda Summit Suite 649   \n",
      "11  christopher.coleman@jred.com               236 Rogers Extension   \n",
      "12       brenda.skinner@jred.com               52185 Craig Mountain   \n",
      "13       michael.daniel@jred.com       202 Desiree Squares Apt. 603   \n",
      "14        margaret.lowe@jred.com      34150 Kaiser Skyway Suite 129   \n",
      "15       thomas.wallace@jred.com        9731 Lindsay Lake Suite 648   \n",
      "16          john.stokes@jred.com            58352 Patrick Stravenue   \n",
      "17        shelia.murray@jred.com       911 Michael Brooks Suite 043   \n",
      "18         julia.thomas@jred.com         403 Joseph Plaza Suite 859   \n",
      "19         stephen.carr@jred.com         225 Felicia Brook Apt. 313   \n",
      "20      christine.hayes@jred.com      922 Troy Extensions Suite 523   \n",
      "21        julie.parsons@jred.com                   293 Rogers Ports   \n",
      "22        rhonda.thomas@jred.com         1722 Hopkins Loaf Apt. 036   \n",
      "23        kevin.mendoza@jred.com  98988 Shannon Junctions Suite 552   \n",
      "24        jessica.lopez@jred.com                   1339 Linda Ville   \n",
      "25      kevin.zimmerman@jred.com      78867 Chelsea Ridge Suite 569   \n",
      "26       julia.melendez@jred.com                   30247 Sosa Glens   \n",
      "27         frank.thomas@jred.com        08264 Julie Knoll Suite 577   \n",
      "28      jeffrey.fleming@jred.com                     668 Jared Glen   \n",
      "29       kimberly.mason@jred.com      4713 Manning Forges Suite 618   \n",
      "\n",
      "             City State Zip Code  \n",
      "0     Bakersfield    CA    58059  \n",
      "1        Hastings    NE    42576  \n",
      "2           Omaha    NE    50344  \n",
      "3         Seattle    WA    84745  \n",
      "4         Seattle    WA    79482  \n",
      "5        Hastings    NE    77885  \n",
      "6         Seattle    WA    21313  \n",
      "7        San Jose    CA    90255  \n",
      "8   San Francisco    CA    24627  \n",
      "9          Yakima    WA    32111  \n",
      "10         Yakima    WA    51525  \n",
      "11       San Jose    CA    15740  \n",
      "12        Spokane    WA    87319  \n",
      "13        Spokane    WA    57138  \n",
      "14      San Diego    CA    47548  \n",
      "15        Seattle    WA    06103  \n",
      "16    Los Angeles    CA    27753  \n",
      "17   Grand Island    NE    47403  \n",
      "18        Kearney    NE    07324  \n",
      "19        Seattle    WA    07458  \n",
      "20      Vancouver    WA    59740  \n",
      "21   North Platte    NE    52686  \n",
      "22        Anaheim    CA    02541  \n",
      "23           Kent    WA    32462  \n",
      "24         Renton    WA    05876  \n",
      "25        Everett    WA    08960  \n",
      "26      San Diego    CA    21180  \n",
      "27       Columbus    NE    46594  \n",
      "28    Federal Way    WA    41153  \n",
      "29      San Diego    CA    33919  \n"
     ]
    }
   ],
   "source": [
    "from faker import Faker\n",
    "import boto3\n",
    "import pyarrow as pa\n",
    "import pyarrow.parquet as pq\n",
    "from io import BytesIO\n",
    "\n",
    "fake = Faker()\n",
    "states = ['WA', 'NE', 'CA']\n",
    "state_cities = {\n",
    "    'WA': ['Seattle', 'Spokane', 'Tacoma', 'Vancouver', 'Bellevue', 'Kent', 'Everett', 'Renton', 'Federal Way', 'Yakima'],\n",
    "    'NE': ['Omaha', 'Lincoln', 'Bellevue', 'Grand Island', 'Kearney','Fremont','Hastings','Norfolk','Columbus','North Platte'],\n",
    "    'CA': ['Los Angeles', 'San Diego', 'San Jose', 'San Francisco', 'Fresno','Sacramento','Long Beach','Oakland','Bakersfield','Anaheim']\n",
    "}\n",
    "\n",
    "def generate_data(num=30):\n",
    "    output = []\n",
    "    for x in range(num):\n",
    "        state = states[fake.random_int(0,2)]\n",
    "        city = fake.random_element(state_cities[state])\n",
    "        output.append({\"First Name\":fake.first_name(),\n",
    "                       \"Last Name\":fake.last_name(),\n",
    "                       \"Phone\":fake.phone_number(),\n",
    "                       \"Email\":fake.first_name().lower() + '.' + fake.last_name().lower() + '@jred.com',\n",
    "                       \"Address\":fake.street_address(),\n",
    "                       \"City\":city,\n",
    "                       \"State\":state,\n",
    "                       \"Zip Code\":fake.zipcode()})\n",
    "    return pd.DataFrame(output)\n",
    "\n",
    "df = generate_data()\n",
    "\n",
    "bucket = \"jgpromineo\" # your bucket name\n",
    "parquet_buffer = BytesIO()\n",
    "table = pa.Table.from_pandas(df)\n",
    "pq.write_table(table, parquet_buffer)\n",
    "s3_resource = boto3.resource('s3')\n",
    "s3_resource.Object(bucket, \"fake_employee_data.parquet\").put(Body=parquet_buffer.getvalue())\n",
    "\n",
    "print(df)"
   ],
   "metadata": {
    "collapsed": false
   }
  },
  {
   "cell_type": "markdown",
   "source": [
    "#State Office Info"
   ],
   "metadata": {
    "collapsed": false
   }
  },
  {
   "cell_type": "code",
   "execution_count": 6,
   "outputs": [
    {
     "name": "stdout",
     "output_type": "stream",
     "text": [
      "    state_office_id state_office_name state_office_manager  \\\n",
      "0                 0         CA Office     Christina Strong   \n",
      "1                 1         NE Office       Joshua Johnson   \n",
      "2                 2         CA Office            Ryan Hays   \n",
      "3                 3         WA Office        Ashley Graham   \n",
      "4                 4         WA Office      Scott Zimmerman   \n",
      "5                 5         NE Office      Michael Kennedy   \n",
      "6                 6         CA Office          Brian Jones   \n",
      "7                 7         WA Office       Debbie Simpson   \n",
      "8                 8         WA Office      Samantha Hebert   \n",
      "9                 9         WA Office       Elizabeth King   \n",
      "10               10         CA Office        Kristin Lewis   \n",
      "11               11         CA Office     Rebecca Williams   \n",
      "12               12         NE Office     Caroline Edwards   \n",
      "13               13         NE Office      Joseph Callahan   \n",
      "14               14         NE Office        Nathan Coffey   \n",
      "15               15         WA Office        Karen Shelton   \n",
      "16               16         NE Office          James Allen   \n",
      "17               17         NE Office       Megan Sheppard   \n",
      "18               18         CA Office        Michael Gomez   \n",
      "19               19         CA Office        Amanda Barnes   \n",
      "20               20         NE Office        Thomas Murray   \n",
      "21               21         WA Office     Donald Hendricks   \n",
      "22               22         NE Office     Brandon Williams   \n",
      "23               23         WA Office        Savannah Cruz   \n",
      "24               24         CA Office         Lisa Mueller   \n",
      "25               25         CA Office        Lauren Thomas   \n",
      "26               26         NE Office          Morgan Wood   \n",
      "27               27         CA Office       Brooke Hawkins   \n",
      "28               28         CA Office         Eric Barrera   \n",
      "29               29         NE Office         John Ramirez   \n",
      "\n",
      "                 state_office_address  \\\n",
      "0           4336 Jerry Spur Suite 546   \n",
      "1            996 Mary Ports Suite 838   \n",
      "2                      0161 Riley Dam   \n",
      "3          6630 Laura Plains Apt. 793   \n",
      "4                 2029 Michael Square   \n",
      "5           3260 Donna Ridge Apt. 124   \n",
      "6                     47868 Stone Via   \n",
      "7               58841 Gonzalez Courts   \n",
      "8                    89192 Jones Oval   \n",
      "9                  0984 Griffin Curve   \n",
      "10       679 Jennifer Forest Apt. 509   \n",
      "11                958 Nicholas Circle   \n",
      "12                  6386 Murphy Coves   \n",
      "13                  3155 Reed Freeway   \n",
      "14                  9017 Connie Haven   \n",
      "15                   475 Joseph Drive   \n",
      "16       722 Randy Stravenue Apt. 269   \n",
      "17                 74867 Isaiah Knoll   \n",
      "18                  130 Young Harbors   \n",
      "19     8138 Michael Freeway Suite 462   \n",
      "20          86730 Soto Manor Apt. 135   \n",
      "21          018 Jamie Square Apt. 642   \n",
      "22           8989 Brittany Expressway   \n",
      "23      8094 Stewart Gateway Apt. 548   \n",
      "24  9987 Mclaughlin Heights Suite 364   \n",
      "25     650 Katherine Heights Apt. 274   \n",
      "26                94295 Brenda Rapids   \n",
      "27     591 Monica Throughway Apt. 236   \n",
      "28                 336 Elizabeth Dale   \n",
      "29                   4507 Nelson Spur   \n",
      "\n",
      "                              state_office_city state_office_zip  \n",
      "0                                       Anaheim            43090  \n",
      "1                                  Grand Island            15817  \n",
      "2                                   Bakersfield            97301  \n",
      "3                                       Spokane            96987  \n",
      "4                                       Everett            04256  \n",
      "5                                  North Platte            08518  \n",
      "6                                 San Francisco            36813  \n",
      "7                                        Yakima            78592  \n",
      "8                                        Yakima            94062  \n",
      "9                                       Spokane            35730  \n",
      "10                                      Anaheim            51461  \n",
      "11  <EUGPSCoordinates>Fresno</EUGPSCoordinates>            65636  \n",
      "12                                 Grand Island            01502  \n",
      "13                                     Bellevue            79597  \n",
      "14                                      Fremont            49578  \n",
      "15                                  Federal Way            80298  \n",
      "16                                 Grand Island            61056  \n",
      "17                                     Hastings            53106  \n",
      "18                                      Anaheim            91158  \n",
      "19                                    San Diego            78143  \n",
      "20                                     Columbus            56017  \n",
      "21                                     Bellevue            92511  \n",
      "22                                      Norfolk            07840  \n",
      "23                                  Federal Way            52445  \n",
      "24                                   Sacramento            93569  \n",
      "25                                     San Jose            04045  \n",
      "26                                 North Platte            61161  \n",
      "27                                   Sacramento            17048  \n",
      "28  <EUGPSCoordinates>Fresno</EUGPSCoordinates>            77544  \n",
      "29                                        Omaha            57445  \n"
     ]
    }
   ],
   "source": [
    "from faker import Faker\n",
    "import boto3\n",
    "import pyarrow as pa\n",
    "import pyarrow.parquet as pq\n",
    "from io import BytesIO\n",
    "\n",
    "fake = Faker()\n",
    "states = ['WA', 'NE', 'CA']\n",
    "state_cities = {\n",
    "    'WA': ['Seattle', 'Spokane', 'Tacoma', 'Vancouver', 'Bellevue', 'Kent', 'Everett', 'Renton', 'Federal Way', 'Yakima'],\n",
    "    'NE': ['Omaha', 'Lincoln', 'Bellevue', 'Grand Island', 'Kearney','Fremont','Hastings','Norfolk','Columbus','North Platte'],\n",
    "    'CA': ['Los Angeles', 'San Diego', 'San Jose', 'San Francisco', '<EUGPSCoordinates>Fresno</EUGPSCoordinates>','Sacramento','Long Beach','Oakland','Bakersfield','Anaheim']\n",
    "}\n",
    "\n",
    "def generate_data(num=30):\n",
    "    output = []\n",
    "    for x in range(num):\n",
    "        state = states[fake.random_int(0,2)]\n",
    "        city = fake.random_element(state_cities[state])\n",
    "        output.append({\"state_office_id\":x,\n",
    "                       \"state_office_name\":f\"{state} Office\",\n",
    "                       \"state_office_manager\":fake.name(),\n",
    "                       \"state_office_address\":fake.street_address(),\n",
    "                       \"state_office_city\":city,\n",
    "                       \"state_office_zip\":fake.zipcode()})\n",
    "    return pd.DataFrame(output)\n",
    "\n",
    "df = generate_data()\n",
    "\n",
    "bucket = \"jgpromineo\" # your bucket name\n",
    "parquet_buffer = BytesIO()\n",
    "table = pa.Table.from_pandas(df)\n",
    "pq.write_table(table, parquet_buffer)\n",
    "s3_resource = boto3.resource('s3')\n",
    "s3_resource.Object(bucket, \"state_office.parquet\").put(Body=parquet_buffer.getvalue())\n",
    "\n",
    "print(df)"
   ],
   "metadata": {
    "collapsed": false
   }
  },
  {
   "cell_type": "markdown",
   "source": [
    "\n"
   ],
   "metadata": {
    "collapsed": false
   }
  },
  {
   "cell_type": "markdown",
   "source": [
    "#Average Walk Score\n",
    "Data from WalkScore.com"
   ],
   "metadata": {
    "collapsed": false
   }
  },
  {
   "cell_type": "code",
   "execution_count": 20,
   "outputs": [],
   "source": [
    "# Set the name of the bucket and the file to upload\n",
    "bucket_name = 'jgpromineo'\n",
    "file_name = 'WalkScore.csv'\n",
    "\n",
    "# Create an S3 client\n",
    "s3 = boto3.client('s3')\n",
    "\n",
    "# Upload the file to the specified bucket\n",
    "s3.upload_file(file_name, bucket_name, file_name)"
   ],
   "metadata": {
    "collapsed": false
   }
  },
  {
   "cell_type": "markdown",
   "source": [
    "Customer Leads"
   ],
   "metadata": {
    "collapsed": false
   }
  },
  {
   "cell_type": "code",
   "execution_count": 13,
   "outputs": [
    {
     "data": {
      "text/plain": "{'ResponseMetadata': {'RequestId': 'RZNBAVTY0ZHY9F5P',\n  'HostId': '8gYCu+TYRD7hhtpWLMcwBB0GDYVnA81g5bomkwZIadG8G/ZZ1mq33jD2rFqGVkv5ouP4gT9cnKgib2TduphCCQ==',\n  'HTTPStatusCode': 200,\n  'HTTPHeaders': {'x-amz-id-2': '8gYCu+TYRD7hhtpWLMcwBB0GDYVnA81g5bomkwZIadG8G/ZZ1mq33jD2rFqGVkv5ouP4gT9cnKgib2TduphCCQ==',\n   'x-amz-request-id': 'RZNBAVTY0ZHY9F5P',\n   'date': 'Wed, 07 Jun 2023 19:00:02 GMT',\n   'x-amz-version-id': 'WgHxUU5DuArGwbx2.9KTM.EzdeRn5pdZ',\n   'x-amz-server-side-encryption': 'AES256',\n   'etag': '\"7a031c1204974b71f4cb1c996849feea\"',\n   'server': 'AmazonS3',\n   'content-length': '0'},\n  'RetryAttempts': 0},\n 'ETag': '\"7a031c1204974b71f4cb1c996849feea\"',\n 'ServerSideEncryption': 'AES256',\n 'VersionId': 'WgHxUU5DuArGwbx2.9KTM.EzdeRn5pdZ'}"
     },
     "execution_count": 13,
     "metadata": {},
     "output_type": "execute_result"
    }
   ],
   "source": [
    "import boto3\n",
    "import pandas as pd\n",
    "from datetime import datetime, timedelta\n",
    "from random import randrange\n",
    "from io import BytesIO\n",
    "\n",
    "s3 = boto3.client('s3')\n",
    "bucket = 'jgpromineo'\n",
    "employee_key = 'fake_employee_data.parquet'\n",
    "customer_key = 'fake_customer_data.parquet'\n",
    "customer_leads_key = 'customer_leads.parquet'\n",
    "\n",
    "# Create new DataFrame with specified columns\n",
    "columns = ['customer_first_name', 'customer_last_name', 'lead_entry_date', 'employee_ref_first_name', 'employee_ref_last_name', 'employee_ref_state']\n",
    "customer_leads = pd.DataFrame(columns=columns)\n",
    "\n",
    "# Generate fake data for lead_entry_date column\n",
    "num_rows = 10  # specify the number of rows you want to generate\n",
    "start_date = datetime(2022, 1, 1)\n",
    "end_date = datetime(2022, 12, 31)\n",
    "date_range = (end_date - start_date).days\n",
    "customer_leads['lead_entry_date'] = [start_date + timedelta(days=randrange(date_range)) for _ in range(num_rows)]\n",
    "\n",
    "# Read data from Employee table\n",
    "obj = s3.get_object(Bucket=bucket, Key=employee_key)\n",
    "employee_data = pd.read_parquet(BytesIO(obj['Body'].read()))\n",
    "\n",
    "# Fill in employee_ref columns with data from Employee table\n",
    "customer_leads['employee_ref_first_name'] = employee_data['First Name'][:num_rows]\n",
    "customer_leads['employee_ref_last_name'] = employee_data['Last Name'][:num_rows]\n",
    "customer_leads['employee_ref_state'] = employee_data['State'][:num_rows]\n",
    "\n",
    "# Read data from Customer table\n",
    "obj = s3.get_object(Bucket=bucket, Key=customer_key)\n",
    "customer_data = pd.read_parquet(BytesIO(obj['Body'].read()))\n",
    "\n",
    "# Fill in customer_first_name and customer_last_name columns with data from Customer table\n",
    "customer_leads['customer_first_name'] = customer_data['First Name'][:num_rows]\n",
    "customer_leads['customer_last_name'] = customer_data['Last Name'][:num_rows]\n",
    "\n",
    "# Write customer_leads data to S3 bucket\n",
    "buffer = BytesIO()\n",
    "customer_leads.to_parquet(buffer, engine='pyarrow')\n",
    "s3.put_object(Bucket=bucket, Key=customer_leads_key, Body=buffer.getvalue())"
   ],
   "metadata": {
    "collapsed": false
   }
  },
  {
   "cell_type": "code",
   "execution_count": null,
   "outputs": [],
   "source": [],
   "metadata": {
    "collapsed": false
   }
  }
 ],
 "metadata": {
  "kernelspec": {
   "display_name": "Python 3",
   "language": "python",
   "name": "python3"
  },
  "language_info": {
   "codemirror_mode": {
    "name": "ipython",
    "version": 2
   },
   "file_extension": ".py",
   "mimetype": "text/x-python",
   "name": "python",
   "nbconvert_exporter": "python",
   "pygments_lexer": "ipython2",
   "version": "2.7.6"
  }
 },
 "nbformat": 4,
 "nbformat_minor": 0
}
